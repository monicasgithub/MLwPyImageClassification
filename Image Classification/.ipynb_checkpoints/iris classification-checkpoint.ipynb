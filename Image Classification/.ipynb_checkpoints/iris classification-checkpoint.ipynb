{
 "cells": [
  {
   "cell_type": "markdown",
   "id": "dfc830ce",
   "metadata": {},
   "source": [
    "# Iris - Image Classification "
   ]
  },
  {
   "cell_type": "markdown",
   "id": "50cdfb71",
   "metadata": {},
   "source": [
    "a machine learning project by Monica Steinberg"
   ]
  },
  {
   "cell_type": "markdown",
   "id": "bf84e5b6",
   "metadata": {},
   "source": [
    "The data set used for this iamge classification can be found on kaggle under the link https://www.kaggle.com/datasets/jeffheaton/iris-computer-vision\n",
    "This classification is inspired by Fisher's Iris Set."
   ]
  },
  {
   "cell_type": "markdown",
   "id": "3e524500",
   "metadata": {},
   "source": [
    "# # Milestone 1: import all libraries and load images into jupyter notebook"
   ]
  },
  {
   "cell_type": "code",
   "execution_count": 12,
   "id": "7ef12a18",
   "metadata": {},
   "outputs": [
    {
     "name": "stdout",
     "output_type": "stream",
     "text": [
      "Iris Setosa\n",
      "Iris Versicolor\n",
      "Iris Virginica\n"
     ]
    }
   ],
   "source": [
    "import mlwpy\n",
    "from IPython.display import display\n",
    "from IPython.display import display\n",
    "\n",
    "# load image of a setosa\n",
    "display(Image('C:\\\\Users\\\\MonSt\\\\Image Classification\\\\iris-setosa\\\\iris_setosa (1).jpg'))\n",
    "\n",
    "print(\"Iris Setosa\")\n",
    "\n",
    "# load image of a versicolour\n",
    "display(Image('C:\\\\Users\\\\MonSt\\\\Image Classification\\\\iris-versicolour\\\\iris_versicolour (4).jpg'))\n",
    "\n",
    "print(\"Iris Versicolor\")\n",
    "\n",
    "# load image of a virginica\n",
    "display(Image('C:\\\\Users\\\\MonSt\\\\Image Classification\\\\iris-virginica\\\\iris_virginica (27).jpg'))\n",
    "\n",
    "print(\"Iris Virginica\")\n"
   ]
  },
  {
   "cell_type": "code",
   "execution_count": null,
   "id": "e6001ac0",
   "metadata": {},
   "outputs": [],
   "source": []
  }
 ],
 "metadata": {
  "kernelspec": {
   "display_name": "Python 3 (ipykernel)",
   "language": "python",
   "name": "python3"
  },
  "language_info": {
   "codemirror_mode": {
    "name": "ipython",
    "version": 3
   },
   "file_extension": ".py",
   "mimetype": "text/x-python",
   "name": "python",
   "nbconvert_exporter": "python",
   "pygments_lexer": "ipython3",
   "version": "3.10.9"
  }
 },
 "nbformat": 4,
 "nbformat_minor": 5
}
